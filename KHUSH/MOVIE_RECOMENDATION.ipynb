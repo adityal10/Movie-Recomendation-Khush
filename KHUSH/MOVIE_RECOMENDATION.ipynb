{
 "cells": [
  {
   "cell_type": "code",
   "execution_count": 8,
   "id": "0e0713be",
   "metadata": {},
   "outputs": [],
   "source": [
    "import pandas as pd\n",
    "import numpy as np\n",
    "import matplotlib.pyplot as plt\n",
    "from sklearn.model_selection import train_test_split\n",
    "import re\n",
    "from nltk.corpus import stopwords #nltk is natural language toolkit #stopwords are words that dont add much importance to our text\n",
    "from nltk.stem.porter import PorterStemmer\n",
    "from sklearn.feature_extraction.text import TfidfVectorizer"
   ]
  },
  {
   "cell_type": "code",
   "execution_count": 9,
   "id": "91e2facb",
   "metadata": {},
   "outputs": [],
   "source": [
    "import difflib\n",
    "from sklearn.metrics.pairwise import cosine_similarity"
   ]
  },
  {
   "cell_type": "code",
   "execution_count": 10,
   "id": "ea68b077",
   "metadata": {},
   "outputs": [],
   "source": [
    "movds=pd.read_csv('movies.csv')"
   ]
  },
  {
   "cell_type": "code",
   "execution_count": 11,
   "id": "a9fba2ce",
   "metadata": {
    "scrolled": false
   },
   "outputs": [],
   "source": [
    "#movds"
   ]
  },
  {
   "cell_type": "code",
   "execution_count": 12,
   "id": "80e23590",
   "metadata": {},
   "outputs": [],
   "source": [
    "#movds.shape"
   ]
  },
  {
   "cell_type": "code",
   "execution_count": 13,
   "id": "1f76f05b",
   "metadata": {},
   "outputs": [],
   "source": [
    "#movds.columns"
   ]
  },
  {
   "cell_type": "code",
   "execution_count": 14,
   "id": "2a8e0e16",
   "metadata": {},
   "outputs": [],
   "source": [
    "#movds.isnull().sum()"
   ]
  },
  {
   "cell_type": "code",
   "execution_count": 15,
   "id": "6539d795",
   "metadata": {},
   "outputs": [
    {
     "name": "stdout",
     "output_type": "stream",
     "text": [
      "['genres', 'keywords', 'tagline', 'cast', 'director']\n"
     ]
    }
   ],
   "source": [
    "#selecting the relevant features \n",
    "#selected_features=['index','budget','id','runtime','status','tagline','crew']\n",
    "selected_features=['genres','keywords','tagline','cast','director']\n",
    "print(selected_features)"
   ]
  },
  {
   "cell_type": "code",
   "execution_count": 16,
   "id": "57547caa",
   "metadata": {},
   "outputs": [],
   "source": [
    "#replacing null values with null string\n",
    "for feature in selected_features:\n",
    "    movds[feature]=movds[feature].fillna('')"
   ]
  },
  {
   "cell_type": "code",
   "execution_count": 17,
   "id": "918eee19",
   "metadata": {},
   "outputs": [
    {
     "name": "stdout",
     "output_type": "stream",
     "text": [
      "0       Action Adventure Fantasy Science Fictioncultur...\n",
      "1       Adventure Fantasy Actionocean drug abuse exoti...\n",
      "2       Action Adventure Crimespy based on novel secre...\n",
      "3       Action Crime Drama Thrillerdc comics crime fig...\n",
      "4       Action Adventure Science Fictionbased on novel...\n",
      "                              ...                        \n",
      "4798    Action Crime Thrillerunited states\\u2013mexico...\n",
      "4799    Comedy RomanceA newlywed couple's honeymoon is...\n",
      "4800    Comedy Drama Romance TV Moviedate love at firs...\n",
      "4801    A New Yorker in ShanghaiDaniel Henney Eliza Co...\n",
      "4802    Documentaryobsession camcorder crush dream gir...\n",
      "Length: 4803, dtype: object\n"
     ]
    }
   ],
   "source": [
    "#combining all selected features\n",
    "newmovds=movds['genres']+''+movds['keywords']+''+movds['tagline']+''+movds['cast']+''+movds['director']\n",
    "print(newmovds)"
   ]
  },
  {
   "cell_type": "code",
   "execution_count": 18,
   "id": "cee1d2e4",
   "metadata": {},
   "outputs": [],
   "source": [
    "#converting text data to numberical values\n",
    "from sklearn.feature_extraction.text import TfidfVectorizer\n",
    "vectorizer= TfidfVectorizer() #Term Frequency Inverse Document Frequency, counts number of times a word is repeating in a document. the repetion of the word signifies how important the word actuall is\n",
    "feature_vectors= vectorizer.fit_transform(newmovds)"
   ]
  },
  {
   "cell_type": "code",
   "execution_count": 19,
   "id": "53fc6647",
   "metadata": {},
   "outputs": [],
   "source": [
    "#print(feature_vectors)"
   ]
  },
  {
   "cell_type": "code",
   "execution_count": 20,
   "id": "b80cddc0",
   "metadata": {},
   "outputs": [],
   "source": [
    "#getting similarity using cosine similarity"
   ]
  },
  {
   "cell_type": "code",
   "execution_count": 21,
   "id": "3e44ab58",
   "metadata": {},
   "outputs": [],
   "source": [
    "similarity= cosine_similarity(feature_vectors)"
   ]
  },
  {
   "cell_type": "code",
   "execution_count": 22,
   "id": "c9b43682",
   "metadata": {},
   "outputs": [],
   "source": [
    "#print(similarity)"
   ]
  },
  {
   "cell_type": "code",
   "execution_count": 23,
   "id": "745e83fd",
   "metadata": {},
   "outputs": [],
   "source": [
    "#similarity.shape"
   ]
  },
  {
   "cell_type": "code",
   "execution_count": 24,
   "id": "2810129b",
   "metadata": {},
   "outputs": [],
   "source": [
    "#getting movie name from user\n",
    "movie_name=input('enter your favourite movie name: ')\n"
   ]
  },
  {
   "cell_type": "code",
   "execution_count": 25,
   "id": "f914546f",
   "metadata": {},
   "outputs": [],
   "source": [
    "#creating a list of movies given in the dataset\n",
    "list_of_all_titles=movds['title'].to_list()\n",
    "#print(list_of_all_titles)"
   ]
  },
  {
   "cell_type": "code",
   "execution_count": 26,
   "id": "7f39edf1",
   "metadata": {},
   "outputs": [
    {
     "name": "stdout",
     "output_type": "stream",
     "text": [
      "['Titanic', 'Maniac', 'Hitman']\n"
     ]
    }
   ],
   "source": [
    "#finding close match for movie name given by the user\n",
    "find_close_match= difflib.get_close_matches(movie_name,list_of_all_titles)\n",
    "print(find_close_match)"
   ]
  },
  {
   "cell_type": "code",
   "execution_count": 27,
   "id": "17f869b5",
   "metadata": {},
   "outputs": [
    {
     "name": "stdout",
     "output_type": "stream",
     "text": [
      "Titanic\n"
     ]
    }
   ],
   "source": [
    "close_match=find_close_match[0]\n",
    "print(close_match)"
   ]
  },
  {
   "cell_type": "code",
   "execution_count": 28,
   "id": "27f17b4b",
   "metadata": {},
   "outputs": [
    {
     "name": "stdout",
     "output_type": "stream",
     "text": [
      "25\n"
     ]
    }
   ],
   "source": [
    "#finding index of movie with title\n",
    "index_movie=movds[movds.title==close_match]['index'].values[0]\n",
    "print(index_movie)"
   ]
  },
  {
   "cell_type": "code",
   "execution_count": 29,
   "id": "9c6ca8f9",
   "metadata": {},
   "outputs": [],
   "source": [
    "#getting a list of simillar movies\n",
    "similarity_score=list(enumerate(similarity[index_movie])) #enumerate is like running a loop in a list."
   ]
  },
  {
   "cell_type": "code",
   "execution_count": 30,
   "id": "67cbe04a",
   "metadata": {
    "scrolled": true
   },
   "outputs": [],
   "source": [
    "#print(similarity_score)"
   ]
  },
  {
   "cell_type": "code",
   "execution_count": 31,
   "id": "f3c9bc4b",
   "metadata": {
    "scrolled": true
   },
   "outputs": [],
   "source": [
    "#sorting the movies based on their similarity score\n",
    "sorted_similar_movies=sorted(similarity_score,key= lambda x:x[1], reverse=True)\n",
    "top10_recomended= sorted_similar_movies[:10]\n",
    "#print(top10_recomended)\n",
    "# print('Index Numbers of top 10')\n",
    "\n",
    "# for i in top10_recomended:\n",
    "#     index=i[0]"
   ]
  },
  {
   "cell_type": "code",
   "execution_count": 32,
   "id": "ba8aa64e",
   "metadata": {},
   "outputs": [
    {
     "name": "stdout",
     "output_type": "stream",
     "text": [
      "the top 10 related movies for titanic are: \n",
      "25 ['Titanic']\n",
      "593 ['The Dilemma']\n",
      "1081 ['Revolutionary Road']\n",
      "3631 ['Heavenly Creatures']\n",
      "142 ['Flushed Away']\n",
      "316 ['Gangs of New York']\n",
      "2449 ['Sense and Sensibility']\n",
      "49 ['The Great Gatsby']\n",
      "2245 ['The Brothers Bloom']\n",
      "439 ['Shutter Island']\n"
     ]
    }
   ],
   "source": [
    "#finding title of movie with index\n",
    "print('the top 10 related movies for',movie_name, 'are: ')\n",
    "for i in top10_recomended:\n",
    "    index=i[0]\n",
    "    title_of_movie=movds[movds.index==index]['title'].values\n",
    "    print(index,title_of_movie)\n"
   ]
  },
  {
   "cell_type": "markdown",
   "id": "e0c4b9ef",
   "metadata": {},
   "source": [
    "# Movie Recommendation System"
   ]
  },
  {
   "cell_type": "code",
   "execution_count": 33,
   "id": "68388d19",
   "metadata": {},
   "outputs": [],
   "source": [
    "def Favourite_movie(movie_name):\n",
    "    list_of_all_titles=movds['title'].to_list()\n",
    "    #print(list_of_all_titles)\n",
    "    #finding close match for movie name given by the user\n",
    "    find_close_match= difflib.get_close_matches(movie_name,list_of_all_titles)\n",
    "    #print(find_close_match)\n",
    "    close_match=find_close_match[0]\n",
    "    #print(close_match)\n",
    "    #finding index of movie with title\n",
    "    index_movie=movds[movds.title==close_match]['index'].values[0]\n",
    "    #print(index_movie)\n",
    "    #getting a list of simillar movies\n",
    "    similarity_score=list(enumerate(similarity[index_movie])) #enumerate is like running a loop in a list.\n",
    "    # print(similarity)\n",
    "    #sorting the movies based on their similarity score\n",
    "    sorted_similar_movies=sorted(similarity_score,key= lambda x:x[1], reverse=True)\n",
    "    top10_recomended= sorted_similar_movies[:10]\n",
    "    #finding title of movie with index\n",
    "    print('the top 10 related movies to',movie_name, 'are: ')\n",
    "    k=1\n",
    "    for i in top10_recomended:\n",
    "        index=i[0]\n",
    "        title_of_movie=movds[movds.index==index]['title'].values\n",
    "        for i in title_of_movie:\n",
    "            print(k,i)\n",
    "            k+=1"
   ]
  },
  {
   "cell_type": "markdown",
   "id": "4e4f1104",
   "metadata": {},
   "source": [
    "# What is your favourite Movie\n"
   ]
  },
  {
   "cell_type": "code",
   "execution_count": 34,
   "id": "c5b214d0",
   "metadata": {},
   "outputs": [
    {
     "name": "stdout",
     "output_type": "stream",
     "text": [
      "[[1.         0.06865296 0.01492221 ... 0.         0.         0.        ]\n",
      " [0.06865296 1.         0.02799128 ... 0.01243107 0.         0.        ]\n",
      " [0.01492221 0.02799128 1.         ... 0.         0.         0.        ]\n",
      " ...\n",
      " [0.         0.01243107 0.         ... 1.         0.         0.        ]\n",
      " [0.         0.         0.         ... 0.         1.         0.        ]\n",
      " [0.         0.         0.         ... 0.         0.         1.        ]]\n",
      "the top 10 related movies to titonic are: \n",
      "1 Titanic\n",
      "2 The Dilemma\n",
      "3 Revolutionary Road\n",
      "4 Heavenly Creatures\n",
      "5 Flushed Away\n",
      "6 Gangs of New York\n",
      "7 Sense and Sensibility\n",
      "8 The Great Gatsby\n",
      "9 The Brothers Bloom\n",
      "10 Shutter Island\n"
     ]
    }
   ],
   "source": [
    "Favourite_movie('titonic')\n"
   ]
  },
  {
   "cell_type": "code",
   "execution_count": null,
   "id": "af65c91e",
   "metadata": {},
   "outputs": [],
   "source": []
  },
  {
   "cell_type": "code",
   "execution_count": null,
   "id": "0e6c36dd",
   "metadata": {},
   "outputs": [],
   "source": []
  }
 ],
 "metadata": {
  "kernelspec": {
   "display_name": "Python 3.8.8 ('base')",
   "language": "python",
   "name": "python3"
  },
  "language_info": {
   "codemirror_mode": {
    "name": "ipython",
    "version": 3
   },
   "file_extension": ".py",
   "mimetype": "text/x-python",
   "name": "python",
   "nbconvert_exporter": "python",
   "pygments_lexer": "ipython3",
   "version": "3.8.8"
  },
  "vscode": {
   "interpreter": {
    "hash": "ad2bdc8ecc057115af97d19610ffacc2b4e99fae6737bb82f5d7fb13d2f2c186"
   }
  }
 },
 "nbformat": 4,
 "nbformat_minor": 5
}
